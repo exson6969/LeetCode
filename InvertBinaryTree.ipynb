{
  "nbformat": 4,
  "nbformat_minor": 0,
  "metadata": {
    "colab": {
      "name": "InvertBinaryTree.ipynb",
      "provenance": [],
      "authorship_tag": "ABX9TyPxH9b3YycRvtcpUmzCKcr9",
      "include_colab_link": true
    },
    "kernelspec": {
      "name": "python3",
      "display_name": "Python 3"
    },
    "language_info": {
      "name": "python"
    }
  },
  "cells": [
    {
      "cell_type": "markdown",
      "metadata": {
        "id": "view-in-github",
        "colab_type": "text"
      },
      "source": [
        "<a href=\"https://colab.research.google.com/github/exson6969/LeetCode/blob/main/InvertBinaryTree.ipynb\" target=\"_parent\"><img src=\"https://colab.research.google.com/assets/colab-badge.svg\" alt=\"Open In Colab\"/></a>"
      ]
    },
    {
      "cell_type": "code",
      "execution_count": 1,
      "metadata": {
        "id": "O2TQlvYnwbCn"
      },
      "outputs": [],
      "source": [
        "class Solution:\n",
        "  def invertTree(self, root):\n",
        "    if not root:\n",
        "      return None\n",
        "    \n",
        "    temp = root.left\n",
        "    root.left = root.right\n",
        "    root.right = tmp\n",
        "\n",
        "    self.invertTree(root.left)\n",
        "    self.invertTree(root.right)\n",
        "    return root"
      ]
    },
    {
      "cell_type": "code",
      "source": [
        ""
      ],
      "metadata": {
        "id": "O9cgBpJcyZh2"
      },
      "execution_count": null,
      "outputs": []
    }
  ]
}