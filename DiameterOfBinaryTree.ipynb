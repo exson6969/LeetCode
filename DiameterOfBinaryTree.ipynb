{
  "nbformat": 4,
  "nbformat_minor": 0,
  "metadata": {
    "colab": {
      "name": "DiameterOfBinaryTree.ipynb",
      "provenance": [],
      "authorship_tag": "ABX9TyNhsL6eDnOXRIRJ4L3eByQs",
      "include_colab_link": true
    },
    "kernelspec": {
      "name": "python3",
      "display_name": "Python 3"
    },
    "language_info": {
      "name": "python"
    }
  },
  "cells": [
    {
      "cell_type": "markdown",
      "metadata": {
        "id": "view-in-github",
        "colab_type": "text"
      },
      "source": [
        "<a href=\"https://colab.research.google.com/github/exson6969/LeetCode/blob/main/DiameterOfBinaryTree.ipynb\" target=\"_parent\"><img src=\"https://colab.research.google.com/assets/colab-badge.svg\" alt=\"Open In Colab\"/></a>"
      ]
    },
    {
      "cell_type": "code",
      "execution_count": 3,
      "metadata": {
        "id": "P0u8jG5TR48L"
      },
      "outputs": [],
      "source": [
        "class TreeNode:\n",
        "  def __init__(self, val=0,left=None,right=None):\n",
        "    self.val = val\n",
        "    self.left = left\n",
        "    self.right = right\n",
        "\n",
        "class Solution:\n",
        "  def daimeterOfBinaryTree(self, root:TreeNode) -> int:\n",
        "    res = [0]\n",
        "\n",
        "    def dfs(root):\n",
        "      if not root:\n",
        "        return -1\n",
        "\n",
        "      left = dfs(root.left)\n",
        "      right = dfs(root.right)\n",
        "      res[0] = max(res[0],2+left+right)\n",
        "\n",
        "      return 1+max(left,right)\n",
        "\n",
        "    dfs(root)\n",
        "    return res[0]"
      ]
    },
    {
      "cell_type": "code",
      "source": [
        ""
      ],
      "metadata": {
        "id": "RgpHqwX6WNS2"
      },
      "execution_count": null,
      "outputs": []
    }
  ]
}