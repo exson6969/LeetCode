{
  "nbformat": 4,
  "nbformat_minor": 0,
  "metadata": {
    "colab": {
      "name": "ValidParentheses.ipynb",
      "provenance": [],
      "authorship_tag": "ABX9TyMzSCbDdwf2JzqMNLGa5jla",
      "include_colab_link": true
    },
    "kernelspec": {
      "name": "python3",
      "display_name": "Python 3"
    },
    "language_info": {
      "name": "python"
    }
  },
  "cells": [
    {
      "cell_type": "markdown",
      "metadata": {
        "id": "view-in-github",
        "colab_type": "text"
      },
      "source": [
        "<a href=\"https://colab.research.google.com/github/exson6969/LeetCode/blob/main/ValidParentheses.ipynb\" target=\"_parent\"><img src=\"https://colab.research.google.com/assets/colab-badge.svg\" alt=\"Open In Colab\"/></a>"
      ]
    },
    {
      "cell_type": "code",
      "execution_count": 3,
      "metadata": {
        "id": "tUPhEkGlzDjr"
      },
      "outputs": [],
      "source": [
        "class Solution:\n",
        "  def isValid(self, s: str) -> bool:\n",
        "    stack = []\n",
        "    closeToOpen = {\")\":\"(\",\"]\":\"[\",\"}\":\"{\"}\n",
        "\n",
        "    for c in s:\n",
        "      if c in closeToOpen:\n",
        "        if stack and stack[-1] == closeToOpen:\n",
        "          stack.pop()\n",
        "        else:\n",
        "          return False\n",
        "      else:\n",
        "        stack.append(c)\n",
        "\n",
        "    return True if not stack else False"
      ]
    },
    {
      "cell_type": "code",
      "source": [
        ""
      ],
      "metadata": {
        "id": "c3r30IVG1K4R"
      },
      "execution_count": null,
      "outputs": []
    }
  ]
}