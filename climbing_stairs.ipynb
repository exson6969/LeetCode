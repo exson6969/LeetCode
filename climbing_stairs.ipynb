{
  "nbformat": 4,
  "nbformat_minor": 0,
  "metadata": {
    "colab": {
      "name": "climbing_stairs.ipynb",
      "provenance": [],
      "authorship_tag": "ABX9TyNDhPgBqGwUMUAgZlY55mTL",
      "include_colab_link": true
    },
    "kernelspec": {
      "name": "python3",
      "display_name": "Python 3"
    },
    "language_info": {
      "name": "python"
    }
  },
  "cells": [
    {
      "cell_type": "markdown",
      "metadata": {
        "id": "view-in-github",
        "colab_type": "text"
      },
      "source": [
        "<a href=\"https://colab.research.google.com/github/exson6969/LeetCode/blob/main/climbing_stairs.ipynb\" target=\"_parent\"><img src=\"https://colab.research.google.com/assets/colab-badge.svg\" alt=\"Open In Colab\"/></a>"
      ]
    },
    {
      "cell_type": "code",
      "execution_count": 1,
      "metadata": {
        "id": "T4ZA27hj3gn9"
      },
      "outputs": [],
      "source": [
        "class Solution:\n",
        "  def climbStairs(self, n):\n",
        "    one, two = 1,1\n",
        "\n",
        "    for i in range(n-1):\n",
        "      temp = one\n",
        "      one= one+two\n",
        "      two = temp\n",
        "\n",
        "    return one"
      ]
    },
    {
      "cell_type": "code",
      "source": [
        "p1 = Solution()\n",
        "print(p1.climbStairs(4))"
      ],
      "metadata": {
        "colab": {
          "base_uri": "https://localhost:8080/"
        },
        "id": "FwkmypOmAbgK",
        "outputId": "74234292-a736-4f74-93a8-f7e7d671f895"
      },
      "execution_count": 3,
      "outputs": [
        {
          "output_type": "stream",
          "name": "stdout",
          "text": [
            "5\n"
          ]
        }
      ]
    },
    {
      "cell_type": "code",
      "source": [
        ""
      ],
      "metadata": {
        "id": "Zj1Si0SBAtBu"
      },
      "execution_count": null,
      "outputs": []
    }
  ]
}