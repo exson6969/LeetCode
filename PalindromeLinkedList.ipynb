{
  "nbformat": 4,
  "nbformat_minor": 0,
  "metadata": {
    "colab": {
      "name": "PalindromeLinkedList.ipynb",
      "provenance": [],
      "authorship_tag": "ABX9TyPguTkUYXrMY0MhzMi0b0a1",
      "include_colab_link": true
    },
    "kernelspec": {
      "name": "python3",
      "display_name": "Python 3"
    },
    "language_info": {
      "name": "python"
    }
  },
  "cells": [
    {
      "cell_type": "markdown",
      "metadata": {
        "id": "view-in-github",
        "colab_type": "text"
      },
      "source": [
        "<a href=\"https://colab.research.google.com/github/exson6969/LeetCode/blob/main/PalindromeLinkedList.ipynb\" target=\"_parent\"><img src=\"https://colab.research.google.com/assets/colab-badge.svg\" alt=\"Open In Colab\"/></a>"
      ]
    },
    {
      "cell_type": "code",
      "execution_count": 1,
      "metadata": {
        "id": "Pp--yvquKX81"
      },
      "outputs": [],
      "source": [
        "class ListNode:\n",
        "  def __init__(self,val = 0, next = None):\n",
        "    self.val = val\n",
        "    self.next = next\n",
        "\n",
        "class Solution:\n",
        "  def isPalindrome(self,head) -> bool:\n",
        "    nums = []\n",
        "\n",
        "    while head:\n",
        "      nums.append(head.val)\n",
        "      head = head.next\n",
        "\n",
        "    l,r = 0, len(nums) - 1\n",
        "    while l <= r:\n",
        "      if nums[l] != nums[r]:\n",
        "        return False\n",
        "\n",
        "      l+=1\n",
        "      r-=1\n",
        "    return True"
      ]
    },
    {
      "cell_type": "code",
      "source": [
        ""
      ],
      "metadata": {
        "id": "9cb3DlsvMsJM"
      },
      "execution_count": null,
      "outputs": []
    }
  ]
}