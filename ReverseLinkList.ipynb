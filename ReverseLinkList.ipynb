{
  "nbformat": 4,
  "nbformat_minor": 0,
  "metadata": {
    "colab": {
      "name": "ReverseLinkList.ipynb",
      "provenance": [],
      "authorship_tag": "ABX9TyNMJAFC3pxRiOgzU/+RmIv4",
      "include_colab_link": true
    },
    "kernelspec": {
      "name": "python3",
      "display_name": "Python 3"
    },
    "language_info": {
      "name": "python"
    }
  },
  "cells": [
    {
      "cell_type": "markdown",
      "metadata": {
        "id": "view-in-github",
        "colab_type": "text"
      },
      "source": [
        "<a href=\"https://colab.research.google.com/github/exson6969/LeetCode/blob/main/ReverseLinkList.ipynb\" target=\"_parent\"><img src=\"https://colab.research.google.com/assets/colab-badge.svg\" alt=\"Open In Colab\"/></a>"
      ]
    },
    {
      "cell_type": "code",
      "execution_count": 1,
      "metadata": {
        "id": "nbymTpjMIOIt"
      },
      "outputs": [],
      "source": [
        "class ListNode:\n",
        "  def __init__(self, val = 0, next = None):\n",
        "    self.val = val\n",
        "    self.next = next"
      ]
    },
    {
      "cell_type": "code",
      "source": [
        "class Solution:\n",
        "  def reverseList(self, head: ListNode) -> ListNode:\n",
        "    prev,curr = None, head\n",
        "\n",
        "    while curr:\n",
        "      nxt = curr.next\n",
        "      curr.next = prev\n",
        "      prev = curr\n",
        "      curr = nxt\n",
        "    return prev"
      ],
      "metadata": {
        "id": "AYdNOPr8JsHI"
      },
      "execution_count": 2,
      "outputs": []
    },
    {
      "cell_type": "code",
      "source": [
        ""
      ],
      "metadata": {
        "id": "yrQwLwHJKGqo"
      },
      "execution_count": null,
      "outputs": []
    }
  ]
}